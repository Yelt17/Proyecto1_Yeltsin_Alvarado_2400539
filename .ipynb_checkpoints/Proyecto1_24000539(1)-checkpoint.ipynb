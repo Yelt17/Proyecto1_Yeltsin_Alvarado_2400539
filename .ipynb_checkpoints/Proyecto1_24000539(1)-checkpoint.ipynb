{
 "cells": [
  {
   "cell_type": "code",
   "execution_count": 9,
   "id": "662656cc-f877-430d-b1e0-56f6a6ef8ee0",
   "metadata": {
    "tags": []
   },
   "outputs": [],
   "source": [
    "import numpy as np\n",
    "import pandas as pd\n",
    "import matplotlib.pyplot as plt\n",
    "import matplotlib.style as style\n",
    "import seaborn as sns\n",
    "import sklearn as sk\n",
    "from sklearn.linear_model import LinearRegression\n",
    "style.use('ggplot')"
   ]
  },
  {
   "cell_type": "markdown",
   "id": "c5046df8-df06-4496-9aac-0be991de8803",
   "metadata": {},
   "source": [
    "# Proyecto #1 Python Master Data Science Galileo"
   ]
  },
  {
   "cell_type": "markdown",
   "id": "859ecb9f-8333-47f0-b2f4-4bc3b21150fb",
   "metadata": {
    "tags": []
   },
   "source": [
    "## 2)"
   ]
  },
  {
   "cell_type": "code",
   "execution_count": 8,
   "id": "10f4f744-cc46-44f9-a7c1-af935e73f2dc",
   "metadata": {
    "tags": []
   },
   "outputs": [
    {
     "ename": "FileNotFoundError",
     "evalue": "[Errno 2] No such file or directory: 'proyecto_training_data.npy'",
     "output_type": "error",
     "traceback": [
      "\u001b[0;31m---------------------------------------------------------------------------\u001b[0m",
      "\u001b[0;31mFileNotFoundError\u001b[0m                         Traceback (most recent call last)",
      "Cell \u001b[0;32mIn[8], line 2\u001b[0m\n\u001b[1;32m      1\u001b[0m \u001b[38;5;66;03m#se Cargan los datos\u001b[39;00m\n\u001b[0;32m----> 2\u001b[0m arr \u001b[38;5;241m=\u001b[39m np\u001b[38;5;241m.\u001b[39mload(\u001b[38;5;124m'\u001b[39m\u001b[38;5;124mproyecto_training_data.npy\u001b[39m\u001b[38;5;124m'\u001b[39m, allow_pickle \u001b[38;5;241m=\u001b[39m \u001b[38;5;28;01mFalse\u001b[39;00m)\n\u001b[1;32m      3\u001b[0m arr\u001b[38;5;241m.\u001b[39mshape\n\u001b[1;32m      4\u001b[0m \u001b[38;5;66;03m#se mezcla aleatoriamente los datos dentro del arr\u001b[39;00m\n",
      "File \u001b[0;32m~/anaconda3/lib/python3.11/site-packages/numpy/lib/npyio.py:405\u001b[0m, in \u001b[0;36mload\u001b[0;34m(file, mmap_mode, allow_pickle, fix_imports, encoding, max_header_size)\u001b[0m\n\u001b[1;32m    403\u001b[0m     own_fid \u001b[38;5;241m=\u001b[39m \u001b[38;5;28;01mFalse\u001b[39;00m\n\u001b[1;32m    404\u001b[0m \u001b[38;5;28;01melse\u001b[39;00m:\n\u001b[0;32m--> 405\u001b[0m     fid \u001b[38;5;241m=\u001b[39m stack\u001b[38;5;241m.\u001b[39menter_context(\u001b[38;5;28mopen\u001b[39m(os_fspath(file), \u001b[38;5;124m\"\u001b[39m\u001b[38;5;124mrb\u001b[39m\u001b[38;5;124m\"\u001b[39m))\n\u001b[1;32m    406\u001b[0m     own_fid \u001b[38;5;241m=\u001b[39m \u001b[38;5;28;01mTrue\u001b[39;00m\n\u001b[1;32m    408\u001b[0m \u001b[38;5;66;03m# Code to distinguish from NumPy binary files and pickles.\u001b[39;00m\n",
      "\u001b[0;31mFileNotFoundError\u001b[0m: [Errno 2] No such file or directory: 'proyecto_training_data.npy'"
     ]
    }
   ],
   "source": [
    "\n",
    "#se Cargan los datos\n",
    "arr = np.load('proyecto_training_data.npy', allow_pickle = False)\n",
    "arr.shape\n",
    "#se mezcla aleatoriamente los datos dentro del arr\n",
    "np.random.shuffle(arr)\n",
    "\n",
    "# Seleccionar el 80% del arreglo\n",
    "pct = int(len(arr) * 0.8)\n",
    "ochenta_x_ciento = arr[:pct]\n",
    "test = arr[pct:]\n",
    "#test split \n",
    "ocheta_x_ciento.shape, test.shape\n",
    "\n"
   ]
  },
  {
   "cell_type": "code",
   "execution_count": null,
   "id": "d97d3aff-c912-44d4-b47b-473d37dbc9d0",
   "metadata": {},
   "outputs": [],
   "source": []
  }
 ],
 "metadata": {
  "kernelspec": {
   "display_name": "Python 3 (ipykernel)",
   "language": "python",
   "name": "python3"
  },
  "language_info": {
   "codemirror_mode": {
    "name": "ipython",
    "version": 3
   },
   "file_extension": ".py",
   "mimetype": "text/x-python",
   "name": "python",
   "nbconvert_exporter": "python",
   "pygments_lexer": "ipython3",
   "version": "3.11.5"
  }
 },
 "nbformat": 4,
 "nbformat_minor": 5
}
